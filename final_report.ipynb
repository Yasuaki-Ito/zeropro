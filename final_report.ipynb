{
  "nbformat": 4,
  "nbformat_minor": 0,
  "metadata": {
    "colab": {
      "provenance": [],
      "authorship_tag": "ABX9TyP6V5dJtCaLUrAA6hs50LuM",
      "include_colab_link": true
    },
    "kernelspec": {
      "name": "python3",
      "display_name": "Python 3"
    },
    "language_info": {
      "name": "python"
    }
  },
  "cells": [
    {
      "cell_type": "markdown",
      "metadata": {
        "id": "view-in-github",
        "colab_type": "text"
      },
      "source": [
        "<a href=\"https://colab.research.google.com/github/Yasuaki-Ito/zeropro/blob/main/final_report.ipynb\" target=\"_parent\"><img src=\"https://colab.research.google.com/assets/colab-badge.svg\" alt=\"Open In Colab\"/></a>"
      ]
    },
    {
      "cell_type": "markdown",
      "source": [
        "# 最終レポート\n",
        "\n",
        "学籍番号：...\n",
        "\n",
        "氏名：...\n",
        "\n",
        "---"
      ],
      "metadata": {
        "id": "TxAGweLHoU80"
      }
    },
    {
      "cell_type": "markdown",
      "source": [
        "これまでの講義で学んだ内容を活かし、自由にプログラムを作成してください。テーマは自由ですが、これまでの講義で扱った以下の内容を参考にして、実用性や創造性を発揮できる作品に取り組んでください。"
      ],
      "metadata": {
        "id": "AASglwzwod7h"
      }
    },
    {
      "cell_type": "markdown",
      "source": [
        "# プログラム\n",
        "以下の例を削除してプログラムを記入してください。\n",
        "\n",
        "---"
      ],
      "metadata": {
        "id": "4jX48Gr_p_BU"
      }
    },
    {
      "cell_type": "code",
      "source": [
        "# 入力値の設定\n",
        "n = 10\n",
        "\n",
        "# for文を使って1からnまでの和を計算\n",
        "sum = 0\n",
        "for i in range(1, n+1):\n",
        "  sum += i\n",
        "\n",
        "# 結果を表示\n",
        "print(sum)\n",
        "\n",
        "\n",
        "\n",
        "\n",
        "\n",
        "\n",
        "\n",
        "\n",
        "\n",
        "\n",
        "\n",
        "\n",
        "\n",
        "\n",
        "\n",
        "\n",
        "\n",
        "\n",
        "\n",
        "\n",
        "\n",
        "\n",
        "\n",
        "\n",
        "\n",
        "\n",
        "\n",
        "\n",
        "\n",
        "\n",
        "\n",
        "\n",
        "\n",
        "\n"
      ],
      "metadata": {
        "id": "WUcxenowqPcY"
      },
      "execution_count": null,
      "outputs": []
    },
    {
      "cell_type": "markdown",
      "source": [
        "---"
      ],
      "metadata": {
        "id": "LJSy757UucFc"
      }
    },
    {
      "cell_type": "markdown",
      "source": [
        "## 作成したプログラムの説明\n",
        "\n"
      ],
      "metadata": {
        "id": "Goh00raBomME"
      }
    },
    {
      "cell_type": "markdown",
      "source": [
        "### プログラムの目的\n",
        "どんなプログラムを作成したか、どんな場面で役立つかなど、プログラムの概要を説明してください。\n",
        "\n",
        "以下の例を書き換えてください\n",
        "\n",
        "---"
      ],
      "metadata": {
        "id": "sJb4bixPqnI9"
      }
    },
    {
      "cell_type": "markdown",
      "source": [
        "（例）整数xとyの値の合計を計算し、表示する\n",
        "\n",
        "\n",
        "\n",
        "\n",
        "\n",
        "\n"
      ],
      "metadata": {
        "id": "8S_fU38cqvBj"
      }
    },
    {
      "cell_type": "markdown",
      "source": [
        "---\n",
        "\n",
        "### 使用方法\n",
        "プログラムを動かす手順（実行方法、入力の設定方法）を説明してください。\n",
        "\n",
        "以下の例を書き換えてください\n",
        "\n",
        "---"
      ],
      "metadata": {
        "id": "0fdzJqEoqzwm"
      }
    },
    {
      "cell_type": "markdown",
      "source": [
        "（例）xとyの初期値を変更することで、表示したい合計を設定する。\n",
        "\n",
        "\n",
        "\n",
        "\n",
        "\n",
        "\n",
        "\n",
        "\n"
      ],
      "metadata": {
        "id": "ox6wo8B3rqL5"
      }
    },
    {
      "cell_type": "markdown",
      "source": [
        "---\n",
        "\n",
        "### 工夫した点\n",
        "コードを書く際に特に注意したり工夫した部分を書いてください。\n",
        "\n",
        "以下の例を書き換えてください\n",
        "\n",
        "---\n"
      ],
      "metadata": {
        "id": "GxENLqoVsYGd"
      }
    },
    {
      "cell_type": "markdown",
      "source": [
        "（例）コメントでプログラムの説明を追加することでコードをわかりやすくした。\n"
      ],
      "metadata": {
        "id": "bdzIZFhXssQX"
      }
    },
    {
      "cell_type": "markdown",
      "source": [
        "---\n",
        "\n",
        "### 学んだこと\n",
        "今回のプログラム作成を通じて新たに学んだことや気付きを簡潔に書いてください。\n",
        "\n",
        "以下の例を書き換えてください\n",
        "\n",
        "---"
      ],
      "metadata": {
        "id": "2dcZ6AsitxTS"
      }
    },
    {
      "cell_type": "markdown",
      "source": [
        "（例）range文(1,n)としたときにnが含まれないことに注意しないといけないことを思い出した。\n",
        "\n",
        "\n",
        "\n",
        "\n",
        "\n",
        "\n"
      ],
      "metadata": {
        "id": "SHE97-OVuEjw"
      }
    },
    {
      "cell_type": "markdown",
      "source": [
        "---\n",
        "\n"
      ],
      "metadata": {
        "id": "2SMmg3DIuzI3"
      }
    }
  ]
}